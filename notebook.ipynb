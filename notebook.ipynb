{
 "cells": [
  {
   "cell_type": "markdown",
   "id": "46c6a8ff",
   "metadata": {},
   "source": [
    "Generating Fraud Data"
   ]
  },
  {
   "cell_type": "code",
   "execution_count": 4,
   "id": "9c676990",
   "metadata": {},
   "outputs": [
    {
     "name": "stdout",
     "output_type": "stream",
     "text": [
      "1. URGENT: CEO requests immediate payment to new vendor.\n",
      "2. Unusual activity detected in your Bank of America account. Confirm your identity.\n",
      "3. Official notice: You are the lucky winner of a $500 gift card.\n",
      "4. Congratulations! You've won a Amazon voucher. Claim your reward now.\n",
      "5. Official notice: You are the lucky winner of a $1000 cash prize.\n",
      "6. Medical insurance requires immediate verification.\n",
      "7. Official notice: You are the lucky winner of a $500 gift card.\n",
      "8. Important: Update your Netflix credentials today.\n",
      "9. Your Wells Fargo online banking access is locked. Reset now.\n",
      "10. Medical insurance requires immediate verification.\n"
     ]
    }
   ],
   "source": [
    "import random\n",
    "\n",
    "# Define themes and templates\n",
    "bank_templates = [\n",
    "    \"Your {bank} account has been suspended. Please verify immediately.\",\n",
    "    \"Unusual activity detected in your {bank} account. Confirm your identity.\",\n",
    "    \"{bank} Security Alert: Immediate verification needed.\",\n",
    "    \"Your {bank} online banking access is locked. Reset now.\",\n",
    "]\n",
    "\n",
    "package_templates = [\n",
    "    \"{carrier} attempted delivery. Pay small fee to reschedule.\",\n",
    "    \"{carrier} parcel undeliverable. Update address to receive package.\",\n",
    "    \"Delivery failed. {carrier} needs confirmation of your details.\",\n",
    "]\n",
    "\n",
    "prize_templates = [\n",
    "    \"Congratulations! You've won a {prize}. Claim your reward now.\",\n",
    "    \"{prize} awaits you! Confirm your winning entry.\",\n",
    "    \"Official notice: You are the lucky winner of a {prize}.\",\n",
    "]\n",
    "\n",
    "password_templates = [\n",
    "    \"Reset your {service} password now due to suspicious login.\",\n",
    "    \"{service} account security compromised. Change password immediately.\",\n",
    "    \"Important: Update your {service} credentials today.\",\n",
    "]\n",
    "\n",
    "ceo_templates = [\n",
    "    \"URGENT: CEO requests immediate payment to new vendor.\",\n",
    "    \"Confidential: Process wire transfer as instructed by CFO.\",\n",
    "    \"Emergency: Transfer funds to supplier before end of day.\",\n",
    "]\n",
    "\n",
    "service_templates = [\n",
    "    \"{service} subscription expired. Update billing information.\",\n",
    "    \"Your {service} account will be terminated. Verify payment.\",\n",
    "    \"{service} service interrupted. Reactivate now.\",\n",
    "]\n",
    "\n",
    "health_templates = [\n",
    "    \"Healthcare update: Confirm enrollment today.\",\n",
    "    \"Urgent: Final notice for health benefits renewal.\",\n",
    "    \"Medical insurance requires immediate verification.\",\n",
    "]\n",
    "\n",
    "# Value pools\n",
    "banks = [\"Bank of America\", \"Chase\", \"Wells Fargo\", \"Citibank\", \"HSBC\"]\n",
    "carriers = [\"FedEx\", \"UPS\", \"DHL\", \"USPS\"]\n",
    "prizes = [\"$500 gift card\", \"$1000 cash prize\", \"new iPhone\", \"Amazon voucher\"]\n",
    "services = [\"Netflix\", \"PayPal\", \"Amazon\", \"Apple\", \"Microsoft\"]\n",
    "\n",
    "# Combine all templates\n",
    "templates = (\n",
    "    bank_templates +\n",
    "    package_templates +\n",
    "    prize_templates +\n",
    "    password_templates +\n",
    "    ceo_templates +\n",
    "    service_templates +\n",
    "    health_templates\n",
    ")\n",
    "\n",
    "# Generate 500 spam messages\n",
    "spam_messages = []\n",
    "\n",
    "for _ in range(500):\n",
    "    template = random.choice(templates)\n",
    "    filled = template.format(\n",
    "        bank=random.choice(banks),\n",
    "        carrier=random.choice(carriers),\n",
    "        prize=random.choice(prizes),\n",
    "        service=random.choice(services)\n",
    "    )\n",
    "    spam_messages.append(filled)\n",
    "\n",
    "# Example output\n",
    "for i in range(10):\n",
    "    print(f\"{i+1}. {spam_messages[i]}\")\n",
    "\n",
    "# Save to text file (optional)\n",
    "with open(\"generated_spam_messages.txt\", \"w\") as f:\n",
    "    for msg in spam_messages:\n",
    "        f.write(msg + \"\\n\")\n"
   ]
  },
  {
   "cell_type": "code",
   "execution_count": 7,
   "id": "ebc962a2",
   "metadata": {},
   "outputs": [
    {
     "name": "stdout",
     "output_type": "stream",
     "text": [
      "label\n",
      "ham     4825\n",
      "spam    1139\n",
      "Name: count, dtype: int64\n"
     ]
    }
   ],
   "source": [
    "import pandas as pd\n",
    "\n",
    "# Load original dataset\n",
    "df_original = pd.read_csv(\"SMSSpamCollection\", sep='\\t', names=['label', 'text'])\n",
    "\n",
    "\n",
    "# Load generated spam messages\n",
    "with open(\"generated_spam_messages.txt\", \"r\") as f:\n",
    "    generated_spam = f.readlines()\n",
    "\n",
    "# Clean newlines\n",
    "generated_spam = [msg.strip() for msg in generated_spam]\n",
    "\n",
    "# Create DataFrame\n",
    "df_generated = pd.DataFrame({\n",
    "    'label': ['spam'] * len(generated_spam),\n",
    "    'text': generated_spam\n",
    "})\n",
    "\n",
    "\n",
    "# Combine original + generated\n",
    "df_full = pd.concat([df_original, df_generated], ignore_index=True)\n",
    "\n",
    "# Shuffle to mix generated + original\n",
    "df_full = df_full.sample(frac=1, random_state=42).reset_index(drop=True)\n",
    "\n",
    "print(df_full['label'].value_counts())"
   ]
  },
  {
   "cell_type": "markdown",
   "id": "5ac632a5",
   "metadata": {},
   "source": [
    "Cleaning the text"
   ]
  },
  {
   "cell_type": "code",
   "execution_count": 8,
   "id": "8d22448c",
   "metadata": {},
   "outputs": [],
   "source": [
    "import re\n",
    "\n",
    "def clean_text(text):\n",
    "    text = text.lower()\n",
    "    text = re.sub(r\"[^a-zA-Z0-9\\s]\", \"\", text)\n",
    "    return text\n",
    "\n",
    "df_full['text'] = df_full['text'].apply(clean_text)\n"
   ]
  },
  {
   "cell_type": "markdown",
   "id": "a7a13af3",
   "metadata": {},
   "source": [
    "Split to traint Test"
   ]
  },
  {
   "cell_type": "code",
   "execution_count": 9,
   "id": "b9ebdbd4",
   "metadata": {},
   "outputs": [],
   "source": [
    "from sklearn.model_selection import train_test_split\n",
    "\n",
    "X = df_full['text'].values\n",
    "y = df_full['label'].map({'ham': 0, 'spam': 1}).values\n",
    "\n",
    "X_train, X_test, y_train, y_test = train_test_split(X, y, test_size=0.2, random_state=42)\n"
   ]
  },
  {
   "cell_type": "code",
   "execution_count": 12,
   "id": "7c0d09e6",
   "metadata": {},
   "outputs": [
    {
     "data": {
      "text/html": [
       "<pre style=\"white-space:pre;overflow-x:auto;line-height:normal;font-family:Menlo,'DejaVu Sans Mono',consolas,'Courier New',monospace\"><span style=\"font-weight: bold\">Model: \"sequential_1\"</span>\n",
       "</pre>\n"
      ],
      "text/plain": [
       "\u001b[1mModel: \"sequential_1\"\u001b[0m\n"
      ]
     },
     "metadata": {},
     "output_type": "display_data"
    },
    {
     "data": {
      "text/html": [
       "<pre style=\"white-space:pre;overflow-x:auto;line-height:normal;font-family:Menlo,'DejaVu Sans Mono',consolas,'Courier New',monospace\">┏━━━━━━━━━━━━━━━━━━━━━━━━━━━━━━━━━┳━━━━━━━━━━━━━━━━━━━━━━━━┳━━━━━━━━━━━━━━━┓\n",
       "┃<span style=\"font-weight: bold\"> Layer (type)                    </span>┃<span style=\"font-weight: bold\"> Output Shape           </span>┃<span style=\"font-weight: bold\">       Param # </span>┃\n",
       "┡━━━━━━━━━━━━━━━━━━━━━━━━━━━━━━━━━╇━━━━━━━━━━━━━━━━━━━━━━━━╇━━━━━━━━━━━━━━━┩\n",
       "│ embedding_1 (<span style=\"color: #0087ff; text-decoration-color: #0087ff\">Embedding</span>)         │ (<span style=\"color: #00d7ff; text-decoration-color: #00d7ff\">None</span>, <span style=\"color: #00af00; text-decoration-color: #00af00\">50</span>, <span style=\"color: #00af00; text-decoration-color: #00af00\">64</span>)         │       <span style=\"color: #00af00; text-decoration-color: #00af00\">320,000</span> │\n",
       "├─────────────────────────────────┼────────────────────────┼───────────────┤\n",
       "│ lstm_1 (<span style=\"color: #0087ff; text-decoration-color: #0087ff\">LSTM</span>)                   │ (<span style=\"color: #00d7ff; text-decoration-color: #00d7ff\">None</span>, <span style=\"color: #00af00; text-decoration-color: #00af00\">64</span>)             │        <span style=\"color: #00af00; text-decoration-color: #00af00\">33,024</span> │\n",
       "├─────────────────────────────────┼────────────────────────┼───────────────┤\n",
       "│ dropout_2 (<span style=\"color: #0087ff; text-decoration-color: #0087ff\">Dropout</span>)             │ (<span style=\"color: #00d7ff; text-decoration-color: #00d7ff\">None</span>, <span style=\"color: #00af00; text-decoration-color: #00af00\">64</span>)             │             <span style=\"color: #00af00; text-decoration-color: #00af00\">0</span> │\n",
       "├─────────────────────────────────┼────────────────────────┼───────────────┤\n",
       "│ dense_2 (<span style=\"color: #0087ff; text-decoration-color: #0087ff\">Dense</span>)                 │ (<span style=\"color: #00d7ff; text-decoration-color: #00d7ff\">None</span>, <span style=\"color: #00af00; text-decoration-color: #00af00\">32</span>)             │         <span style=\"color: #00af00; text-decoration-color: #00af00\">2,080</span> │\n",
       "├─────────────────────────────────┼────────────────────────┼───────────────┤\n",
       "│ dropout_3 (<span style=\"color: #0087ff; text-decoration-color: #0087ff\">Dropout</span>)             │ (<span style=\"color: #00d7ff; text-decoration-color: #00d7ff\">None</span>, <span style=\"color: #00af00; text-decoration-color: #00af00\">32</span>)             │             <span style=\"color: #00af00; text-decoration-color: #00af00\">0</span> │\n",
       "├─────────────────────────────────┼────────────────────────┼───────────────┤\n",
       "│ dense_3 (<span style=\"color: #0087ff; text-decoration-color: #0087ff\">Dense</span>)                 │ (<span style=\"color: #00d7ff; text-decoration-color: #00d7ff\">None</span>, <span style=\"color: #00af00; text-decoration-color: #00af00\">1</span>)              │            <span style=\"color: #00af00; text-decoration-color: #00af00\">33</span> │\n",
       "└─────────────────────────────────┴────────────────────────┴───────────────┘\n",
       "</pre>\n"
      ],
      "text/plain": [
       "┏━━━━━━━━━━━━━━━━━━━━━━━━━━━━━━━━━┳━━━━━━━━━━━━━━━━━━━━━━━━┳━━━━━━━━━━━━━━━┓\n",
       "┃\u001b[1m \u001b[0m\u001b[1mLayer (type)                   \u001b[0m\u001b[1m \u001b[0m┃\u001b[1m \u001b[0m\u001b[1mOutput Shape          \u001b[0m\u001b[1m \u001b[0m┃\u001b[1m \u001b[0m\u001b[1m      Param #\u001b[0m\u001b[1m \u001b[0m┃\n",
       "┡━━━━━━━━━━━━━━━━━━━━━━━━━━━━━━━━━╇━━━━━━━━━━━━━━━━━━━━━━━━╇━━━━━━━━━━━━━━━┩\n",
       "│ embedding_1 (\u001b[38;5;33mEmbedding\u001b[0m)         │ (\u001b[38;5;45mNone\u001b[0m, \u001b[38;5;34m50\u001b[0m, \u001b[38;5;34m64\u001b[0m)         │       \u001b[38;5;34m320,000\u001b[0m │\n",
       "├─────────────────────────────────┼────────────────────────┼───────────────┤\n",
       "│ lstm_1 (\u001b[38;5;33mLSTM\u001b[0m)                   │ (\u001b[38;5;45mNone\u001b[0m, \u001b[38;5;34m64\u001b[0m)             │        \u001b[38;5;34m33,024\u001b[0m │\n",
       "├─────────────────────────────────┼────────────────────────┼───────────────┤\n",
       "│ dropout_2 (\u001b[38;5;33mDropout\u001b[0m)             │ (\u001b[38;5;45mNone\u001b[0m, \u001b[38;5;34m64\u001b[0m)             │             \u001b[38;5;34m0\u001b[0m │\n",
       "├─────────────────────────────────┼────────────────────────┼───────────────┤\n",
       "│ dense_2 (\u001b[38;5;33mDense\u001b[0m)                 │ (\u001b[38;5;45mNone\u001b[0m, \u001b[38;5;34m32\u001b[0m)             │         \u001b[38;5;34m2,080\u001b[0m │\n",
       "├─────────────────────────────────┼────────────────────────┼───────────────┤\n",
       "│ dropout_3 (\u001b[38;5;33mDropout\u001b[0m)             │ (\u001b[38;5;45mNone\u001b[0m, \u001b[38;5;34m32\u001b[0m)             │             \u001b[38;5;34m0\u001b[0m │\n",
       "├─────────────────────────────────┼────────────────────────┼───────────────┤\n",
       "│ dense_3 (\u001b[38;5;33mDense\u001b[0m)                 │ (\u001b[38;5;45mNone\u001b[0m, \u001b[38;5;34m1\u001b[0m)              │            \u001b[38;5;34m33\u001b[0m │\n",
       "└─────────────────────────────────┴────────────────────────┴───────────────┘\n"
      ]
     },
     "metadata": {},
     "output_type": "display_data"
    },
    {
     "data": {
      "text/html": [
       "<pre style=\"white-space:pre;overflow-x:auto;line-height:normal;font-family:Menlo,'DejaVu Sans Mono',consolas,'Courier New',monospace\"><span style=\"font-weight: bold\"> Total params: </span><span style=\"color: #00af00; text-decoration-color: #00af00\">355,137</span> (1.35 MB)\n",
       "</pre>\n"
      ],
      "text/plain": [
       "\u001b[1m Total params: \u001b[0m\u001b[38;5;34m355,137\u001b[0m (1.35 MB)\n"
      ]
     },
     "metadata": {},
     "output_type": "display_data"
    },
    {
     "data": {
      "text/html": [
       "<pre style=\"white-space:pre;overflow-x:auto;line-height:normal;font-family:Menlo,'DejaVu Sans Mono',consolas,'Courier New',monospace\"><span style=\"font-weight: bold\"> Trainable params: </span><span style=\"color: #00af00; text-decoration-color: #00af00\">355,137</span> (1.35 MB)\n",
       "</pre>\n"
      ],
      "text/plain": [
       "\u001b[1m Trainable params: \u001b[0m\u001b[38;5;34m355,137\u001b[0m (1.35 MB)\n"
      ]
     },
     "metadata": {},
     "output_type": "display_data"
    },
    {
     "data": {
      "text/html": [
       "<pre style=\"white-space:pre;overflow-x:auto;line-height:normal;font-family:Menlo,'DejaVu Sans Mono',consolas,'Courier New',monospace\"><span style=\"font-weight: bold\"> Non-trainable params: </span><span style=\"color: #00af00; text-decoration-color: #00af00\">0</span> (0.00 B)\n",
       "</pre>\n"
      ],
      "text/plain": [
       "\u001b[1m Non-trainable params: \u001b[0m\u001b[38;5;34m0\u001b[0m (0.00 B)\n"
      ]
     },
     "metadata": {},
     "output_type": "display_data"
    }
   ],
   "source": [
    "from tensorflow.keras.preprocessing.text import Tokenizer\n",
    "from tensorflow.keras.preprocessing.sequence import pad_sequences\n",
    "from tensorflow.keras.models import Sequential\n",
    "from tensorflow.keras.layers import Embedding, LSTM, Dense, Dropout,Input\n",
    "# Tokenize text\n",
    "tokenizer = Tokenizer(num_words=5000, oov_token=\"<OOV>\")\n",
    "tokenizer.fit_on_texts(X_train)\n",
    "\n",
    "X_train_seq = tokenizer.texts_to_sequences(X_train)\n",
    "X_test_seq = tokenizer.texts_to_sequences(X_test)\n",
    "\n",
    "# Pad sequences to same length\n",
    "max_length = 50  # SMS are usually short\n",
    "X_train_pad = pad_sequences(X_train_seq, maxlen=max_length, padding='post')\n",
    "X_test_pad = pad_sequences(X_test_seq, maxlen=max_length, padding='post')\n",
    "\n",
    "model = Sequential([\n",
    "    Input(shape=(max_length,)),   \n",
    "    Embedding(input_dim=5000, output_dim=64),\n",
    "    LSTM(64, return_sequences=False),\n",
    "    Dropout(0.5),\n",
    "    Dense(32, activation='relu'),\n",
    "    Dropout(0.3),\n",
    "    Dense(1, activation='sigmoid')\n",
    "])\n",
    "\n",
    "model.compile(loss='binary_crossentropy', optimizer='adam', metrics=['accuracy'])\n",
    "\n",
    "model.summary()"
   ]
  },
  {
   "cell_type": "markdown",
   "id": "a72a54d9",
   "metadata": {},
   "source": [
    "Model Training"
   ]
  },
  {
   "cell_type": "code",
   "execution_count": 13,
   "id": "f355b0f7",
   "metadata": {},
   "outputs": [
    {
     "name": "stdout",
     "output_type": "stream",
     "text": [
      "Epoch 1/6\n",
      "\u001b[1m150/150\u001b[0m \u001b[32m━━━━━━━━━━━━━━━━━━━━\u001b[0m\u001b[37m\u001b[0m \u001b[1m2s\u001b[0m 9ms/step - accuracy: 0.8023 - loss: 0.5488 - val_accuracy: 0.8256 - val_loss: 0.4672\n",
      "Epoch 2/6\n",
      "\u001b[1m150/150\u001b[0m \u001b[32m━━━━━━━━━━━━━━━━━━━━\u001b[0m\u001b[37m\u001b[0m \u001b[1m1s\u001b[0m 8ms/step - accuracy: 0.8420 - loss: 0.4321 - val_accuracy: 0.9573 - val_loss: 0.1791\n",
      "Epoch 3/6\n",
      "\u001b[1m150/150\u001b[0m \u001b[32m━━━━━━━━━━━━━━━━━━━━\u001b[0m\u001b[37m\u001b[0m \u001b[1m1s\u001b[0m 8ms/step - accuracy: 0.9690 - loss: 0.1512 - val_accuracy: 0.9606 - val_loss: 0.1672\n",
      "Epoch 4/6\n",
      "\u001b[1m150/150\u001b[0m \u001b[32m━━━━━━━━━━━━━━━━━━━━\u001b[0m\u001b[37m\u001b[0m \u001b[1m1s\u001b[0m 8ms/step - accuracy: 0.9765 - loss: 0.1228 - val_accuracy: 0.9698 - val_loss: 0.1459\n",
      "Epoch 5/6\n",
      "\u001b[1m150/150\u001b[0m \u001b[32m━━━━━━━━━━━━━━━━━━━━\u001b[0m\u001b[37m\u001b[0m \u001b[1m1s\u001b[0m 8ms/step - accuracy: 0.9842 - loss: 0.0883 - val_accuracy: 0.9757 - val_loss: 0.1297\n",
      "Epoch 6/6\n",
      "\u001b[1m150/150\u001b[0m \u001b[32m━━━━━━━━━━━━━━━━━━━━\u001b[0m\u001b[37m\u001b[0m \u001b[1m1s\u001b[0m 8ms/step - accuracy: 0.9884 - loss: 0.0721 - val_accuracy: 0.9782 - val_loss: 0.1131\n"
     ]
    }
   ],
   "source": [
    "history = model.fit(\n",
    "    X_train_pad, y_train,\n",
    "    validation_data=(X_test_pad, y_test),\n",
    "    epochs=6,\n",
    "    batch_size=32\n",
    ")\n"
   ]
  },
  {
   "cell_type": "markdown",
   "id": "133e914a",
   "metadata": {},
   "source": [
    "Save model"
   ]
  },
  {
   "cell_type": "code",
   "execution_count": 19,
   "id": "c7cd853a",
   "metadata": {},
   "outputs": [],
   "source": [
    "model.save(\"social_engineering_sms_model.keras\")"
   ]
  },
  {
   "cell_type": "markdown",
   "id": "5f967b9b",
   "metadata": {},
   "source": [
    "model Evaluation"
   ]
  },
  {
   "cell_type": "code",
   "execution_count": 17,
   "id": "0a928889",
   "metadata": {},
   "outputs": [
    {
     "name": "stdout",
     "output_type": "stream",
     "text": [
      "\u001b[1m38/38\u001b[0m \u001b[32m━━━━━━━━━━━━━━━━━━━━\u001b[0m\u001b[37m\u001b[0m \u001b[1m0s\u001b[0m 3ms/step - accuracy: 0.9757 - loss: 0.1245\n",
      "Test Accuracy: 97.82%\n"
     ]
    }
   ],
   "source": [
    "loss, accuracy = model.evaluate(X_test_pad, y_test)\n",
    "print(f\"Test Accuracy: {accuracy*100:.2f}%\")\n"
   ]
  },
  {
   "cell_type": "code",
   "execution_count": 16,
   "id": "5368557a",
   "metadata": {},
   "outputs": [
    {
     "name": "stdout",
     "output_type": "stream",
     "text": [
      "\u001b[1m38/38\u001b[0m \u001b[32m━━━━━━━━━━━━━━━━━━━━\u001b[0m\u001b[37m\u001b[0m \u001b[1m0s\u001b[0m 3ms/step\n",
      "              precision    recall  f1-score   support\n",
      "\n",
      "         ham       0.98      0.99      0.99       985\n",
      "        spam       0.97      0.90      0.94       208\n",
      "\n",
      "    accuracy                           0.98      1193\n",
      "   macro avg       0.97      0.95      0.96      1193\n",
      "weighted avg       0.98      0.98      0.98      1193\n",
      "\n",
      "[[979   6]\n",
      " [ 20 188]]\n"
     ]
    }
   ],
   "source": [
    "from sklearn.metrics import classification_report, confusion_matrix\n",
    "import numpy as np\n",
    "\n",
    "# Predict\n",
    "y_pred_probs = model.predict(X_test_pad)\n",
    "y_pred = (y_pred_probs > 0.5).astype(int)\n",
    "\n",
    "# Classification Report\n",
    "print(classification_report(y_test, y_pred, target_names=['ham', 'spam']))\n",
    "\n",
    "# Confusion Matrix\n",
    "print(confusion_matrix(y_test, y_pred))\n"
   ]
  }
 ],
 "metadata": {
  "kernelspec": {
   "display_name": ".venv",
   "language": "python",
   "name": "python3"
  },
  "language_info": {
   "codemirror_mode": {
    "name": "ipython",
    "version": 3
   },
   "file_extension": ".py",
   "mimetype": "text/x-python",
   "name": "python",
   "nbconvert_exporter": "python",
   "pygments_lexer": "ipython3",
   "version": "3.11.9"
  }
 },
 "nbformat": 4,
 "nbformat_minor": 5
}
